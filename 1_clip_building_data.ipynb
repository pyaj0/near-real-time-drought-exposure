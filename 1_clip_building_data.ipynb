{
 "cells": [
  {
   "cell_type": "markdown",
   "metadata": {},
   "source": [
    "Open Notebook in Colab\n",
    "\n",
    "http://colab.research.google.com/github/pyaj0/near-real-time-drought-exposure/blob/main/1_clip_building_data.ipynb"
   ]
  },
  {
   "cell_type": "markdown",
   "metadata": {
    "id": "LbGgdE4mj1hd"
   },
   "source": [
    "### Download buildings data for a region in Africa [takes up to 15 minutes for large countries]"
   ]
  },
  {
   "cell_type": "code",
   "execution_count": null,
   "metadata": {
    "id": "qP6ADuzRdZTF"
   },
   "outputs": [],
   "source": [
    "#@markdown Select a region from either the [Natural Earth low res](https://www.naturalearthdata.com/downloads/110m-cultural-vectors/110m-admin-0-countries/) (fastest), [Natural Earth high res](https://www.naturalearthdata.com/downloads/10m-cultural-vectors/10m-admin-0-countries/) or [World Bank high res](https://datacatalog.worldbank.org/dataset/world-bank-official-boundaries) shapefiles:\n",
    "region_border_source = 'Natural Earth (Low Res 110m)'  #@param [\"Natural Earth (Low Res 110m)\", \"Natural Earth (High Res 10m)\", \"World Bank (High Res 10m)\"]\n",
    "region = 'GHA (Ghana)'  #@param [\"\", \"AGO (Angola)\", \"BDI (Burundi)\", \"BEN (Benin)\", \"BFA (Burkina Faso)\", \"BWA (Botswana)\", \"CAF (Central African Republic)\", \"CIV (Côte d'Ivoire)\", \"COD (Democratic Republic of the Congo)\", \"COG (Republic of the Congo)\", \"DJI (Djibouti)\", \"DZA (Algeria)\", \"EGY (Egypt)\", \"ERI (Eritrea)\", \"ETH (Ethiopia)\", \"GAB (Gabon)\", \"GHA (Ghana)\", \"GIN (Guinea)\", \"GMB (The Gambia)\", \"GNB (Guinea-Bissau)\", \"GNQ (Equatorial Guinea)\", \"KEN (Kenya)\", \"LBR (Liberia)\", \"LSO (Lesotho)\", \"MDG (Madagascar)\", \"MOZ (Mozambique)\", \"MRT (Mauritania)\", \"MWI (Malawi)\", \"NAM (Namibia)\", \"NER (Niger)\", \"NGA (Nigeria)\", \"RWA (Rwanda)\", \"SDN (Sudan)\", \"SEN (Senegal)\", \"SLE (Sierra Leone)\", \"SOM (Somalia)\", \"SWZ (eSwatini)\", \"TGO (Togo)\", \"TUN (Tunisia)\", \"TZA (Tanzania)\", \"UGA (Uganda)\", \"ZAF (South Africa)\", \"ZMB (Zambia)\", \"ZWE (Zimbabwe)\"]\n",
    "\n",
    "# @markdown Alternatively, specify an area of interest in [WKT format](https://en.wikipedia.org/wiki/Well-known_text_representation_of_geometry) (assumes crs='EPSG:4326'); this [tool](https://arthur-e.github.io/Wicket/sandbox-gmaps3.html) might be useful.\n",
    "your_own_wkt_polygon = ''  #@param {type:\"string\"}\n",
    "!pip install s2geometry pygeos geopandas\n",
    "\n",
    "import functools\n",
    "import glob\n",
    "import gzip\n",
    "import multiprocessing\n",
    "import os\n",
    "import shutil\n",
    "import tempfile\n",
    "from typing import List, Optional, Tuple\n",
    "\n",
    "\n",
    "import gdal\n",
    "import geopandas as gpd\n",
    "from shapely.geometry import Point\n",
    "from google.colab import files\n",
    "from IPython import display\n",
    "from mpl_toolkits.axes_grid1 import make_axes_locatable\n",
    "import matplotlib.pyplot as plt\n",
    "import numpy as np\n",
    "import pandas as pd\n",
    "import s2geometry as s2\n",
    "import shapely\n",
    "import tensorflow as tf\n",
    "import tqdm.notebook\n",
    "\n",
    "BUILDING_DOWNLOAD_PATH = ('gs://open-buildings-data/v1/'\n",
    "                          'polygons_s2_level_6_gzip_no_header')\n",
    "\n",
    "def get_filename_and_region_dataframe(\n",
    "    region_border_source: str, region: str,\n",
    "    your_own_wkt_polygon: str) -> Tuple[str, gpd.geodataframe.GeoDataFrame]:\n",
    "  \"\"\"Returns output filename and a geopandas dataframe with one region row.\"\"\"\n",
    "\n",
    "  if your_own_wkt_polygon:\n",
    "    filename = 'open_buildings_v1_polygons_your_own_wkt_polygon.csv.gz'\n",
    "    region_df = gpd.GeoDataFrame(\n",
    "        geometry=gpd.GeoSeries.from_wkt([your_own_wkt_polygon]),\n",
    "        crs='EPSG:4326')\n",
    "    if not isinstance(region_df.iloc[0].geometry,\n",
    "                      shapely.geometry.polygon.Polygon) and not isinstance(\n",
    "                          region_df.iloc[0].geometry,\n",
    "                          shapely.geometry.multipolygon.MultiPolygon):\n",
    "      raise ValueError(\"`your_own_wkt_polygon` must be a POLYGON or \"\n",
    "                      \"MULTIPOLYGON.\")\n",
    "    print(f'Preparing your_own_wkt_polygon.')\n",
    "    return filename, region_df\n",
    "\n",
    "  if not region:\n",
    "    raise ValueError('Please select a region or set your_own_wkt_polygon.')\n",
    "\n",
    "  if region_border_source == 'Natural Earth (Low Res 110m)':\n",
    "    url = ('https://www.naturalearthdata.com/http//www.naturalearthdata.com/'\n",
    "           'download/110m/cultural/ne_110m_admin_0_countries.zip')\n",
    "    !wget -N {url}\n",
    "    display.clear_output()\n",
    "    region_shapefile_path = os.path.basename(url)\n",
    "    source_name = 'ne_110m'\n",
    "  elif region_border_source == 'Natural Earth (High Res 10m)':\n",
    "    url = ('https://www.naturalearthdata.com/http//www.naturalearthdata.com/'\n",
    "           'download/10m/cultural/ne_10m_admin_0_countries.zip')\n",
    "    !wget -N {url}\n",
    "    display.clear_output()\n",
    "    region_shapefile_path = os.path.basename(url)\n",
    "    source_name = 'ne_10m'\n",
    "  elif region_border_source == 'World Bank (High Res 10m)':\n",
    "    url = ('https://development-data-hub-s3-public.s3.amazonaws.com/ddhfiles/'\n",
    "           '779551/wb_countries_admin0_10m.zip')\n",
    "    !wget -N {url}\n",
    "    !unzip -o {os.path.basename(url)}\n",
    "    display.clear_output()\n",
    "    region_shapefile_path = 'WB_countries_Admin0_10m'\n",
    "    source_name = 'wb_10m'\n",
    "\n",
    "  region_iso_a3 = region.split(' ')[0]\n",
    "  filename = f'open_buildings_v1_polygons_{source_name}_{region_iso_a3}.csv.gz'\n",
    "  region_df = gpd.read_file(region_shapefile_path).query(\n",
    "      f'ISO_A3 == \"{region_iso_a3}\"').dissolve(by='ISO_A3')[['geometry']]\n",
    "  print(f'Preparing {region} from {region_border_source}.')\n",
    "  return filename, region_df\n",
    "\n",
    "\n",
    "def get_bounding_box_s2_covering_tokens(\n",
    "    region_geometry: shapely.geometry.base.BaseGeometry) -> List[str]:\n",
    "  region_bounds = region_geometry.bounds\n",
    "  s2_lat_lng_rect = s2.S2LatLngRect_FromPointPair(\n",
    "      s2.S2LatLng_FromDegrees(region_bounds[1], region_bounds[0]),\n",
    "      s2.S2LatLng_FromDegrees(region_bounds[3], region_bounds[2]))\n",
    "  coverer = s2.S2RegionCoverer()\n",
    "  # NOTE: Should be kept in-sync with s2 level in BUILDING_DOWNLOAD_PATH.\n",
    "  coverer.set_fixed_level(6)\n",
    "  coverer.set_max_cells(1000000)\n",
    "  return [cell.ToToken() for cell in coverer.GetCovering(s2_lat_lng_rect)]\n",
    "\n",
    "\n",
    "def s2_token_to_shapely_polygon(\n",
    "    s2_token: str) -> shapely.geometry.polygon.Polygon:\n",
    "  s2_cell = s2.S2Cell(s2.S2CellId_FromToken(s2_token, len(s2_token)))\n",
    "  coords = []\n",
    "  for i in range(4):\n",
    "    s2_lat_lng = s2.S2LatLng(s2_cell.GetVertex(i))\n",
    "    coords.append((s2_lat_lng.lng().degrees(), s2_lat_lng.lat().degrees()))\n",
    "  return shapely.geometry.Polygon(coords)\n",
    "\n",
    "\n",
    "def download_s2_token(\n",
    "    s2_token: str, region_df: gpd.geodataframe.GeoDataFrame) -> Optional[str]:\n",
    "  \"\"\"Downloads the matching CSV file with polygons for the `s2_token`.\n",
    "\n",
    "  NOTE: Only polygons inside the region are kept.\n",
    "  NOTE: Passing output via a temporary file to reduce memory usage.\n",
    "\n",
    "  Args:\n",
    "    s2_token: S2 token for which to download the CSV file with building\n",
    "      polygons. The S2 token should be at the same level as the files in\n",
    "      BUILDING_DOWNLOAD_PATH.\n",
    "    region_df: A geopandas dataframe with only one row that contains the region\n",
    "      for which to keep polygons.\n",
    "\n",
    "  Returns:\n",
    "    Either filepath which contains a gzipped CSV without header for the\n",
    "    `s2_token` subfiltered to only contain building polygons inside the region\n",
    "    or None which means that there were no polygons inside the region for this\n",
    "    `s2_token`.\n",
    "  \"\"\"\n",
    "  s2_cell_geometry = s2_token_to_shapely_polygon(s2_token)\n",
    "  region_geometry = region_df.iloc[0].geometry\n",
    "  prepared_region_geometry = shapely.prepared.prep(region_geometry)\n",
    "  # If the s2 cell doesn't intersect the country geometry at all then we can\n",
    "  # know that all rows would be dropped so instead we can just return early.\n",
    "  if not prepared_region_geometry.intersects(s2_cell_geometry):\n",
    "    return None\n",
    "  try:\n",
    "    # Using tf.io.gfile.GFile gives better performance than passing the GCS path\n",
    "    # directly to pd.read_csv.\n",
    "    with tf.io.gfile.GFile(\n",
    "        os.path.join(BUILDING_DOWNLOAD_PATH, f'{s2_token}_buildings.csv.gz'),\n",
    "        'rb') as gf:\n",
    "      # If the s2 cell is fully covered by country geometry then can skip\n",
    "      # filtering as we need all rows.\n",
    "      if prepared_region_geometry.covers(s2_cell_geometry):\n",
    "        with tempfile.NamedTemporaryFile(mode='w+b', delete=False) as tmp_f:\n",
    "          shutil.copyfileobj(gf, tmp_f)\n",
    "          return tmp_f.name\n",
    "      # Else take the slow path.\n",
    "      # NOTE: We read in chunks to save memory.\n",
    "      csv_chunks = pd.read_csv(\n",
    "          gf, chunksize=2000000, dtype=object, compression='gzip', header=None)\n",
    "      tmp_f = tempfile.NamedTemporaryFile(mode='w+b', delete=False)\n",
    "      tmp_f.close()\n",
    "      for csv_chunk in csv_chunks:\n",
    "        points = gpd.GeoDataFrame(\n",
    "            geometry=gpd.points_from_xy(csv_chunk[1], csv_chunk[0]),\n",
    "            crs='EPSG:4326')\n",
    "        # sjoin 'within' was faster than using shapely's 'within' directly.\n",
    "        points = gpd.sjoin(points, region_df, predicate='within')\n",
    "        csv_chunk = csv_chunk.iloc[points.index]\n",
    "        csv_chunk.to_csv(\n",
    "            tmp_f.name,\n",
    "            mode='ab',\n",
    "            index=False,\n",
    "            header=False,\n",
    "            compression={\n",
    "                'method': 'gzip',\n",
    "                'compresslevel': 1\n",
    "            })\n",
    "      return tmp_f.name\n",
    "  except tf.errors.NotFoundError:\n",
    "    return None\n",
    "\n",
    "# Clear output after pip install.\n",
    "display.clear_output()\n",
    "filename, region_df = get_filename_and_region_dataframe(region_border_source,\n",
    "                                                        region,\n",
    "                                                        your_own_wkt_polygon)\n",
    "# Remove any old outputs to not run out of disk.\n",
    "for f in glob.glob('/tmp/open_buildings_*'):\n",
    "  os.remove(f)\n",
    "# Write header to the compressed CSV file.\n",
    "with gzip.open(f'/tmp/{filename}', 'wt') as merged:\n",
    "  merged.write(','.join([\n",
    "      'latitude', 'longitude', 'area_in_meters', 'confidence', 'geometry',\n",
    "      'full_plus_code'\n",
    "  ]) + '\\n')\n",
    "download_s2_token_fn = functools.partial(download_s2_token, region_df=region_df)\n",
    "s2_tokens = get_bounding_box_s2_covering_tokens(region_df.iloc[0].geometry)\n",
    "# Downloads CSV files for relevant S2 tokens and after filtering appends them\n",
    "# to the compressed output CSV file. Relies on the fact that concatenating\n",
    "# gzipped files produces a valid gzip file.\n",
    "# NOTE: Uses a pool to speed up output preparation.\n",
    "with open(f'/tmp/{filename}', 'ab') as merged:\n",
    "  with multiprocessing.Pool(4) as e:\n",
    "    for fname in tqdm.notebook.tqdm(\n",
    "        e.imap_unordered(download_s2_token_fn, s2_tokens),\n",
    "        total=len(s2_tokens)):\n",
    "      if fname:\n",
    "        with open(fname, 'rb') as tmp_f:\n",
    "          shutil.copyfileobj(tmp_f, merged)\n",
    "        os.unlink(fname)"
   ]
  },
  {
   "cell_type": "code",
   "execution_count": null,
   "metadata": {
    "id": "hSpb1JKVjuYj"
   },
   "outputs": [],
   "source": [
    "# create dataframe of buildings\n",
    "buildings = pd.read_csv(\n",
    "    f\"/tmp/{filename}\", engine=\"c\",\n",
    "    usecols=['latitude', 'longitude', 'area_in_meters', 'confidence'])\n",
    "\n",
    "print(f\"Read {len(buildings):,} records.\")"
   ]
  },
  {
   "cell_type": "code",
   "execution_count": null,
   "metadata": {
    "id": "OjF20-SB1bsH"
   },
   "outputs": [],
   "source": [
    "# convert dataframe to geodataframe\n",
    "geometry = [Point(xy) for xy in zip(buildings['longitude'], buildings['latitude'])]\n",
    "crs = 'EPSG:4326'\n",
    "buildings_gpd = gpd.GeoDataFrame(buildings, crs=crs, geometry=geometry)"
   ]
  },
  {
   "cell_type": "code",
   "execution_count": null,
   "metadata": {
    "id": "u3Z1nn2M1b7C"
   },
   "outputs": [],
   "source": [
    "# download zipped data of Ghana administrative boundaries\n",
    "!wget https://biogeo.ucdavis.edu/data/diva/adm/GHA_adm.zip"
   ]
  },
  {
   "cell_type": "code",
   "execution_count": null,
   "metadata": {
    "id": "vNAiByAR1b3W"
   },
   "outputs": [],
   "source": [
    "# unzip Ghana administrative boundaries\n",
    "!unzip GHA_adm.zip"
   ]
  },
  {
   "cell_type": "code",
   "execution_count": null,
   "metadata": {
    "id": "nl-bIuxg1bzW"
   },
   "outputs": [],
   "source": [
    "# read region boundaries of Ghana\n",
    "ghana_admin = gpd.read_file('/content/GHA_adm1.shp')"
   ]
  },
  {
   "cell_type": "code",
   "execution_count": null,
   "metadata": {
    "id": "xe8d7alm1bwA"
   },
   "outputs": [],
   "source": [
    "# select Ghana's central region for experiment\n",
    "central_gha = ghana_admin[ghana_admin['NAME_1'] == 'Central']"
   ]
  },
  {
   "cell_type": "code",
   "execution_count": null,
   "metadata": {
    "id": "yQFU-vWt1bpK"
   },
   "outputs": [],
   "source": [
    "# clip buildings of central region\n",
    "buildings_central = gpd.clip(buildings_gpd, central_gha)"
   ]
  },
  {
   "cell_type": "code",
   "execution_count": null,
   "metadata": {
    "id": "d4h5wvkl1bLG"
   },
   "outputs": [],
   "source": [
    "# reset index of geodataframe\n",
    "buildings_central = buildings_central.reset_index(drop=True)"
   ]
  },
  {
   "cell_type": "code",
   "execution_count": null,
   "metadata": {
    "id": "AMmCayle1aj9"
   },
   "outputs": [],
   "source": [
    "# plot buildings of central\n",
    "buildings_central.plot()"
   ]
  },
  {
   "cell_type": "code",
   "execution_count": null,
   "metadata": {
    "id": "kSY60bUbSNbD"
   },
   "outputs": [],
   "source": [
    "# save geodataframe to csv\n",
    "buildings_central.to_csv('/content/buildings_central.csv', index=False)"
   ]
  }
 ],
 "metadata": {
  "colab": {
   "collapsed_sections": [],
   "name": "1_clip_building_data.ipynb",
   "private_outputs": true,
   "provenance": []
  },
  "kernelspec": {
   "display_name": "Python 3",
   "language": "python",
   "name": "python3"
  },
  "language_info": {
   "codemirror_mode": {
    "name": "ipython",
    "version": 3
   },
   "file_extension": ".py",
   "mimetype": "text/x-python",
   "name": "python",
   "nbconvert_exporter": "python",
   "pygments_lexer": "ipython3",
   "version": "3.9.2"
  }
 },
 "nbformat": 4,
 "nbformat_minor": 1
}
