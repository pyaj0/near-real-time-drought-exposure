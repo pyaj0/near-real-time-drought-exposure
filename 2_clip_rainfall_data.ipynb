{
 "cells": [
  {
   "cell_type": "markdown",
   "metadata": {},
   "source": [
    "Open Notebook in Colab\n",
    "\n",
    "http://colab.research.google.com/github/pyaj0/near-real-time-drought-exposure/blob/main/2_clip_rainfall_data.ipynb)"
   ]
  },
  {
   "cell_type": "code",
   "execution_count": 1,
   "metadata": {
    "colab": {
     "base_uri": "https://localhost:8080/"
    },
    "id": "KTKnsdUJzpQL",
    "outputId": "5853e5c4-e9a9-4269-e0e9-c849141c72ce"
   },
   "outputs": [
    {
     "name": "stdout",
     "output_type": "stream",
     "text": [
      "Collecting geopandas\n",
      "  Downloading geopandas-0.10.2-py2.py3-none-any.whl (1.0 MB)\n",
      "\u001b[K     |████████████████████████████████| 1.0 MB 22.5 MB/s \n",
      "\u001b[?25hCollecting fiona>=1.8\n",
      "  Downloading Fiona-1.8.21-cp37-cp37m-manylinux2014_x86_64.whl (16.7 MB)\n",
      "\u001b[K     |████████████████████████████████| 16.7 MB 422 kB/s \n",
      "\u001b[?25hCollecting pyproj>=2.2.0\n",
      "  Downloading pyproj-3.2.1-cp37-cp37m-manylinux2010_x86_64.whl (6.3 MB)\n",
      "\u001b[K     |████████████████████████████████| 6.3 MB 48.8 MB/s \n",
      "\u001b[?25hRequirement already satisfied: pandas>=0.25.0 in /usr/local/lib/python3.7/dist-packages (from geopandas) (1.3.5)\n",
      "Requirement already satisfied: shapely>=1.6 in /usr/local/lib/python3.7/dist-packages (from geopandas) (1.8.1.post1)\n",
      "Requirement already satisfied: attrs>=17 in /usr/local/lib/python3.7/dist-packages (from fiona>=1.8->geopandas) (21.4.0)\n",
      "Requirement already satisfied: click>=4.0 in /usr/local/lib/python3.7/dist-packages (from fiona>=1.8->geopandas) (7.1.2)\n",
      "Requirement already satisfied: setuptools in /usr/local/lib/python3.7/dist-packages (from fiona>=1.8->geopandas) (57.4.0)\n",
      "Collecting click-plugins>=1.0\n",
      "  Downloading click_plugins-1.1.1-py2.py3-none-any.whl (7.5 kB)\n",
      "Requirement already satisfied: certifi in /usr/local/lib/python3.7/dist-packages (from fiona>=1.8->geopandas) (2021.10.8)\n",
      "Collecting cligj>=0.5\n",
      "  Downloading cligj-0.7.2-py3-none-any.whl (7.1 kB)\n",
      "Collecting munch\n",
      "  Downloading munch-2.5.0-py2.py3-none-any.whl (10 kB)\n",
      "Requirement already satisfied: six>=1.7 in /usr/local/lib/python3.7/dist-packages (from fiona>=1.8->geopandas) (1.15.0)\n",
      "Requirement already satisfied: python-dateutil>=2.7.3 in /usr/local/lib/python3.7/dist-packages (from pandas>=0.25.0->geopandas) (2.8.2)\n",
      "Requirement already satisfied: numpy>=1.17.3 in /usr/local/lib/python3.7/dist-packages (from pandas>=0.25.0->geopandas) (1.21.5)\n",
      "Requirement already satisfied: pytz>=2017.3 in /usr/local/lib/python3.7/dist-packages (from pandas>=0.25.0->geopandas) (2018.9)\n",
      "Installing collected packages: munch, cligj, click-plugins, pyproj, fiona, geopandas\n",
      "Successfully installed click-plugins-1.1.1 cligj-0.7.2 fiona-1.8.21 geopandas-0.10.2 munch-2.5.0 pyproj-3.2.1\n",
      "Requirement already satisfied: xarray in /usr/local/lib/python3.7/dist-packages (0.18.2)\n",
      "Requirement already satisfied: setuptools>=40.4 in /usr/local/lib/python3.7/dist-packages (from xarray) (57.4.0)\n",
      "Requirement already satisfied: pandas>=1.0 in /usr/local/lib/python3.7/dist-packages (from xarray) (1.3.5)\n",
      "Requirement already satisfied: numpy>=1.17 in /usr/local/lib/python3.7/dist-packages (from xarray) (1.21.5)\n",
      "Requirement already satisfied: pytz>=2017.3 in /usr/local/lib/python3.7/dist-packages (from pandas>=1.0->xarray) (2018.9)\n",
      "Requirement already satisfied: python-dateutil>=2.7.3 in /usr/local/lib/python3.7/dist-packages (from pandas>=1.0->xarray) (2.8.2)\n",
      "Requirement already satisfied: six>=1.5 in /usr/local/lib/python3.7/dist-packages (from python-dateutil>=2.7.3->pandas>=1.0->xarray) (1.15.0)\n"
     ]
    }
   ],
   "source": [
    "# install libraries\n",
    "!pip install geopandas # geopandas for shapefile manipulation\n",
    "!pip install xarray # xarray for netcdf manipulatiuon"
   ]
  },
  {
   "cell_type": "code",
   "execution_count": 2,
   "metadata": {
    "id": "7mUtPanWzlE_"
   },
   "outputs": [],
   "source": [
    "# load modules\n",
    "import numpy as np\n",
    "import pandas as pd\n",
    "import xarray as xr"
   ]
  },
  {
   "cell_type": "code",
   "execution_count": 3,
   "metadata": {
    "colab": {
     "base_uri": "https://localhost:8080/"
    },
    "id": "oWVKJ-AAx11p",
    "outputId": "2d1e89bc-71d6-4597-faf3-6e69ec2521ef"
   },
   "outputs": [
    {
     "name": "stdout",
     "output_type": "stream",
     "text": [
      "--2022-03-31 07:36:25--  https://data.chc.ucsb.edu/products/CHIRPS-2.0/global_monthly/netcdf/chirps-v2.0.monthly.nc\n",
      "Resolving data.chc.ucsb.edu (data.chc.ucsb.edu)... 128.111.100.31\n",
      "Connecting to data.chc.ucsb.edu (data.chc.ucsb.edu)|128.111.100.31|:443... connected.\n",
      "HTTP request sent, awaiting response... 200 OK\n",
      "Length: 6947051328 (6.5G) [application/x-netcdf]\n",
      "Saving to: ‘chirps-v2.0.monthly.nc’\n",
      "\n",
      "chirps-v2.0.monthly 100%[===================>]   6.47G  40.6MB/s    in 2m 46s  \n",
      "\n",
      "2022-03-31 07:39:11 (40.0 MB/s) - ‘chirps-v2.0.monthly.nc’ saved [6947051328/6947051328]\n",
      "\n"
     ]
    }
   ],
   "source": [
    "# load global monthly rainfall data\n",
    "!wget https://data.chc.ucsb.edu/products/CHIRPS-2.0/global_monthly/netcdf/chirps-v2.0.monthly.nc"
   ]
  },
  {
   "cell_type": "code",
   "execution_count": 4,
   "metadata": {
    "id": "17ISWxQdzMFq"
   },
   "outputs": [],
   "source": [
    "# load rainfall data\n",
    "chirps = xr.open_dataset('/content/chirps-v2.0.monthly.nc')"
   ]
  },
  {
   "cell_type": "code",
   "execution_count": 5,
   "metadata": {
    "id": "w8I0VXnF0d_f"
   },
   "outputs": [],
   "source": [
    "# select precipitation data\n",
    "pr = chirps['precip']"
   ]
  },
  {
   "cell_type": "code",
   "execution_count": 6,
   "metadata": {
    "id": "YQPjt4fP0d4r"
   },
   "outputs": [],
   "source": [
    "# select precipitation data over Ghana over 1981 to 2022\n",
    "pr_ghana = pr.sel(longitude=slice(-3.3,1.2), latitude=slice(4.7,11.2),time=slice('1981','2022'))"
   ]
  },
  {
   "cell_type": "code",
   "execution_count": 7,
   "metadata": {
    "colab": {
     "base_uri": "https://localhost:8080/"
    },
    "id": "OuAdDWHK-a2V",
    "outputId": "b08f7ac5-c3fb-4e02-826f-0df37de7d2ad"
   },
   "outputs": [
    {
     "name": "stdout",
     "output_type": "stream",
     "text": [
      "<xarray.DataArray 'precip' (time: 494, latitude: 130, longitude: 90)>\n",
      "[5779800 values with dtype=float32]\n",
      "Coordinates:\n",
      "  * latitude   (latitude) float32 4.725 4.775 4.825 4.875 ... 11.07 11.12 11.17\n",
      "  * longitude  (longitude) float32 -3.275 -3.225 -3.175 ... 1.075 1.125 1.175\n",
      "  * time       (time) datetime64[ns] 1981-01-01 1981-02-01 ... 2022-02-01\n",
      "Attributes:\n",
      "    units:               mm/month\n",
      "    standard_name:       convective precipitation rate\n",
      "    long_name:           Climate Hazards group InfraRed Precipitation with St...\n",
      "    time_step:           month\n",
      "    geostatial_lat_min:  -50.0\n",
      "    geostatial_lat_max:  50.0\n",
      "    geostatial_lon_min:  -180.0\n",
      "    geostatial_lon_max:  180.0\n"
     ]
    }
   ],
   "source": [
    "# show Ghana precipitaion data\n",
    "print(pr_ghana)"
   ]
  },
  {
   "cell_type": "code",
   "execution_count": 8,
   "metadata": {
    "id": "KTI2Zn3KWdgt"
   },
   "outputs": [],
   "source": [
    "# save clipped data\n",
    "pr_ghana.to_netcdf('/content/chirps-v2.0.monthly_ghana.nc')"
   ]
  }
 ],
 "metadata": {
  "colab": {
   "collapsed_sections": [],
   "name": "2_clip_rainfall_data.ipynb",
   "provenance": []
  },
  "kernelspec": {
   "display_name": "Python 3",
   "language": "python",
   "name": "python3"
  },
  "language_info": {
   "codemirror_mode": {
    "name": "ipython",
    "version": 3
   },
   "file_extension": ".py",
   "mimetype": "text/x-python",
   "name": "python",
   "nbconvert_exporter": "python",
   "pygments_lexer": "ipython3",
   "version": "3.9.2"
  }
 },
 "nbformat": 4,
 "nbformat_minor": 1
}
